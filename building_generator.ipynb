{
 "cells": [
  {
   "cell_type": "code",
   "execution_count": 24,
   "id": "a0e508bd",
   "metadata": {},
   "outputs": [],
   "source": [
    "import torch\n",
    "import torch.nn.functional as F\n",
    "from torch import nn"
   ]
  },
  {
   "cell_type": "code",
   "execution_count": null,
   "id": "3b743d30",
   "metadata": {},
   "outputs": [],
   "source": [
    "\n",
    "import kagglehub\n",
    "import os"
   ]
  },
  {
   "cell_type": "code",
   "execution_count": null,
   "id": "c783710b",
   "metadata": {},
   "outputs": [],
   "source": [
    "# Download latest version\n",
    "path = kagglehub.dataset_download(\"grafstor/simple-dialogs-for-chatbot\")\n",
    "files = os.listdir(path)\n",
    "with open(os.path.join(path, files[0]), 'r', encoding='utf-8') as f:\n",
    "    text = f.read()"
   ]
  },
  {
   "cell_type": "code",
   "execution_count": null,
   "id": "83544856",
   "metadata": {},
   "outputs": [
    {
     "name": "stdout",
     "output_type": "stream",
     "text": [
      "Number of unique characters: 65\n",
      "\n",
      " !$&',-.3:;?ABCDEFGHIJKLMNOPQRSTUVWXYZabcdefghijklmnopqrstuvwxyz\n"
     ]
    }
   ],
   "source": [
    "chars = sorted(list(set(text)))\n",
    "vocab_size = len(chars)\n",
    "n_embd = 384  # Size of the embedding vectors\n",
    "print(\"Number of unique characters:\", vocab_size)\n",
    "print(''.join(chars))"
   ]
  },
  {
   "cell_type": "code",
   "execution_count": 61,
   "id": "7c18dedd",
   "metadata": {},
   "outputs": [],
   "source": [
    "max_iterations = 1000\n",
    "eval_interval = 500\n",
    "learning_rate = 3e-4\n",
    "batch_size = 64  # Number of sequences in a batch\n",
    "block_size = 256  # Size of the context window\n",
    "eval_iters = 200\n",
    "n_embd = 384\n",
    "n_head = 6  # Number of attention heads\n",
    "n_layer = 6  # Number of transformer blocks\n",
    "dropout = 0.2  # Dropout rate"
   ]
  },
  {
   "cell_type": "code",
   "execution_count": 4,
   "id": "6f8154d4",
   "metadata": {},
   "outputs": [
    {
     "name": "stdout",
     "output_type": "stream",
     "text": [
      "[46, 43, 50, 50, 53]\n",
      "hello\n"
     ]
    }
   ],
   "source": [
    "stoi = { ch:i for i,ch in enumerate(chars) }\n",
    "itos = { i:ch for i,ch in enumerate(chars) }\n",
    "encode = lambda s: [stoi[s] for s in s]\n",
    "decode = lambda l: ''.join([itos[i] for i in l])\n",
    "\n",
    "print(encode(\"hello\"))\n",
    "print(decode(encode(\"hello\")))"
   ]
  },
  {
   "cell_type": "code",
   "execution_count": 5,
   "id": "ec817793",
   "metadata": {},
   "outputs": [
    {
     "name": "stdout",
     "output_type": "stream",
     "text": [
      "torch.Size([1115394]) torch.int64\n",
      "tensor([18, 47, 56, 57, 58,  1, 15, 47, 58, 47, 64, 43, 52, 10,  0, 14, 43, 44,\n",
      "        53, 56, 43,  1, 61, 43,  1, 54, 56, 53, 41, 43, 43, 42,  1, 39, 52, 63,\n",
      "         1, 44, 59, 56, 58, 46, 43, 56,  6,  1, 46, 43, 39, 56,  1, 51, 43,  1,\n",
      "        57, 54, 43, 39, 49,  8,  0,  0, 13, 50, 50, 10,  0, 31, 54, 43, 39, 49,\n",
      "         6,  1, 57, 54, 43, 39, 49,  8,  0,  0, 18, 47, 56, 57, 58,  1, 15, 47,\n",
      "        58, 47, 64, 43, 52, 10,  0, 37, 53, 59,  1, 39, 56, 43,  1, 39, 50, 50,\n",
      "         1, 56, 43, 57, 53, 50, 60, 43, 42,  1, 56, 39, 58, 46, 43, 56,  1, 58,\n",
      "        53,  1, 42, 47, 43,  1, 58, 46, 39, 52,  1, 58, 53,  1, 44, 39, 51, 47,\n",
      "        57, 46, 12,  0,  0, 13, 50, 50, 10,  0, 30, 43, 57, 53, 50, 60, 43, 42,\n",
      "         8,  1, 56, 43, 57, 53, 50, 60, 43, 42,  8,  0,  0, 18, 47, 56, 57, 58,\n",
      "         1, 15, 47, 58, 47, 64, 43, 52, 10,  0, 18, 47, 56, 57, 58,  6,  1, 63,\n",
      "        53, 59,  1, 49, 52, 53, 61,  1, 15, 39, 47, 59, 57,  1, 25, 39, 56, 41,\n",
      "        47, 59, 57,  1, 47, 57,  1, 41, 46, 47, 43, 44,  1, 43, 52, 43, 51, 63,\n",
      "         1, 58, 53,  1, 58, 46, 43,  1, 54, 43, 53, 54, 50, 43,  8,  0,  0, 13,\n",
      "        50, 50, 10,  0, 35, 43,  1, 49, 52, 53, 61,  5, 58,  6,  1, 61, 43,  1,\n",
      "        49, 52, 53, 61,  5, 58,  8,  0,  0, 18, 47, 56, 57, 58,  1, 15, 47, 58,\n",
      "        47, 64, 43, 52, 10,  0, 24, 43, 58,  1, 59, 57,  1, 49, 47, 50, 50,  1,\n",
      "        46, 47, 51,  6,  1, 39, 52, 42,  1, 61, 43,  5, 50, 50,  1, 46, 39, 60,\n",
      "        43,  1, 41, 53, 56, 52,  1, 39, 58,  1, 53, 59, 56,  1, 53, 61, 52,  1,\n",
      "        54, 56, 47, 41, 43,  8,  0, 21, 57,  5, 58,  1, 39,  1, 60, 43, 56, 42,\n",
      "        47, 41, 58, 12,  0,  0, 13, 50, 50, 10,  0, 26, 53,  1, 51, 53, 56, 43,\n",
      "         1, 58, 39, 50, 49, 47, 52, 45,  1, 53, 52,  5, 58, 11,  1, 50, 43, 58,\n",
      "         1, 47, 58,  1, 40, 43,  1, 42, 53, 52, 43, 10,  1, 39, 61, 39, 63,  6,\n",
      "         1, 39, 61, 39, 63,  2,  0,  0, 31, 43, 41, 53, 52, 42,  1, 15, 47, 58,\n",
      "        47, 64, 43, 52, 10,  0, 27, 52, 43,  1, 61, 53, 56, 42,  6,  1, 45, 53,\n",
      "        53, 42,  1, 41, 47, 58, 47, 64, 43, 52, 57,  8,  0,  0, 18, 47, 56, 57,\n",
      "        58,  1, 15, 47, 58, 47, 64, 43, 52, 10,  0, 35, 43,  1, 39, 56, 43,  1,\n",
      "        39, 41, 41, 53, 59, 52, 58, 43, 42,  1, 54, 53, 53, 56,  1, 41, 47, 58,\n",
      "        47, 64, 43, 52, 57,  6,  1, 58, 46, 43,  1, 54, 39, 58, 56, 47, 41, 47,\n",
      "        39, 52, 57,  1, 45, 53, 53, 42,  8,  0, 35, 46, 39, 58,  1, 39, 59, 58,\n",
      "        46, 53, 56, 47, 58, 63,  1, 57, 59, 56, 44, 43, 47, 58, 57,  1, 53, 52,\n",
      "         1, 61, 53, 59, 50, 42,  1, 56, 43, 50, 47, 43, 60, 43,  1, 59, 57, 10,\n",
      "         1, 47, 44,  1, 58, 46, 43, 63,  0, 61, 53, 59, 50, 42,  1, 63, 47, 43,\n",
      "        50, 42,  1, 59, 57,  1, 40, 59, 58,  1, 58, 46, 43,  1, 57, 59, 54, 43,\n",
      "        56, 44, 50, 59, 47, 58, 63,  6,  1, 61, 46, 47, 50, 43,  1, 47, 58,  1,\n",
      "        61, 43, 56, 43,  0, 61, 46, 53, 50, 43, 57, 53, 51, 43,  6,  1, 61, 43,\n",
      "         1, 51, 47, 45, 46, 58,  1, 45, 59, 43, 57, 57,  1, 58, 46, 43, 63,  1,\n",
      "        56, 43, 50, 47, 43, 60, 43, 42,  1, 59, 57,  1, 46, 59, 51, 39, 52, 43,\n",
      "        50, 63, 11,  0, 40, 59, 58,  1, 58, 46, 43, 63,  1, 58, 46, 47, 52, 49,\n",
      "         1, 61, 43,  1, 39, 56, 43,  1, 58, 53, 53,  1, 42, 43, 39, 56, 10,  1,\n",
      "        58, 46, 43,  1, 50, 43, 39, 52, 52, 43, 57, 57,  1, 58, 46, 39, 58,  0,\n",
      "        39, 44, 44, 50, 47, 41, 58, 57,  1, 59, 57,  6,  1, 58, 46, 43,  1, 53,\n",
      "        40, 48, 43, 41, 58,  1, 53, 44,  1, 53, 59, 56,  1, 51, 47, 57, 43, 56,\n",
      "        63,  6,  1, 47, 57,  1, 39, 57,  1, 39, 52,  0, 47, 52, 60, 43, 52, 58,\n",
      "        53, 56, 63,  1, 58, 53,  1, 54, 39, 56, 58, 47, 41, 59, 50, 39, 56, 47,\n",
      "        57, 43,  1, 58, 46, 43, 47, 56,  1, 39, 40, 59, 52, 42, 39, 52, 41, 43,\n",
      "        11,  1, 53, 59, 56,  0, 57, 59, 44, 44, 43, 56, 39, 52, 41, 43,  1, 47,\n",
      "        57,  1, 39,  1, 45, 39, 47, 52,  1, 58, 53,  1, 58, 46, 43, 51,  1, 24,\n",
      "        43, 58,  1, 59, 57,  1, 56, 43, 60, 43, 52, 45, 43,  1, 58, 46, 47, 57,\n",
      "         1, 61, 47, 58, 46,  0, 53, 59, 56,  1, 54, 47, 49, 43, 57,  6,  1, 43,\n",
      "        56, 43,  1, 61, 43,  1, 40, 43, 41, 53, 51, 43,  1, 56, 39, 49, 43, 57,\n",
      "        10,  1, 44, 53, 56,  1, 58, 46, 43,  1, 45, 53, 42, 57,  1, 49, 52, 53,\n",
      "        61,  1, 21,  0, 57, 54, 43, 39, 49,  1, 58, 46, 47, 57,  1, 47, 52,  1,\n",
      "        46, 59, 52, 45, 43, 56,  1, 44, 53, 56,  1, 40, 56, 43, 39, 42,  6,  1,\n",
      "        52, 53, 58,  1, 47, 52,  1, 58, 46, 47, 56, 57, 58,  1, 44, 53, 56,  1,\n",
      "        56, 43, 60, 43, 52, 45, 43,  8,  0,  0])\n"
     ]
    }
   ],
   "source": [
    "import torch\n",
    "data = torch.tensor(encode(text), dtype=torch.long)\n",
    "print(data.shape, data.dtype)  # Print shape and dtype of the tensor\n",
    "print(data[:1000])  # Print the first 1000 elements of the tensor to verify encoding"
   ]
  },
  {
   "cell_type": "code",
   "execution_count": 6,
   "id": "fcd6bc34",
   "metadata": {},
   "outputs": [],
   "source": [
    "n = int(0.9 * len(data))  # 90% for training\n",
    "train_data = data[:n]\n",
    "val_data = data[n:]"
   ]
  },
  {
   "cell_type": "code",
   "execution_count": 7,
   "id": "74332624",
   "metadata": {},
   "outputs": [
    {
     "name": "stdout",
     "output_type": "stream",
     "text": [
      "when input is tensor([18]), the target is 47\n",
      "when input is tensor([18, 47]), the target is 56\n",
      "when input is tensor([18, 47, 56]), the target is 57\n",
      "when input is tensor([18, 47, 56, 57]), the target is 58\n",
      "when input is tensor([18, 47, 56, 57, 58]), the target is 1\n",
      "when input is tensor([18, 47, 56, 57, 58,  1]), the target is 15\n",
      "when input is tensor([18, 47, 56, 57, 58,  1, 15]), the target is 47\n",
      "when input is tensor([18, 47, 56, 57, 58,  1, 15, 47]), the target is 58\n"
     ]
    }
   ],
   "source": [
    "block_size = 8  # Size of the context window\n",
    "x = train_data[:block_size]  # Input sequence\n",
    "y = train_data[1:block_size+1]  # Target sequence (next character)\n",
    "for i in range(block_size):\n",
    "    context = x[:i+1]\n",
    "    target = y[i]\n",
    "    print(f\"when input is {context}, the target is {target}\")\n"
   ]
  },
  {
   "cell_type": "code",
   "execution_count": 8,
   "id": "7854d2dd",
   "metadata": {},
   "outputs": [
    {
     "name": "stdout",
     "output_type": "stream",
     "text": [
      "torch.Size([4, 8, 2])\n"
     ]
    }
   ],
   "source": [
    "torch.manual_seed(1337)  # For reproducibility\n",
    "B, T, C = 4, 8, 2 # batch, time, channels\n",
    "x = torch.randn(B, T, C)  # Random input tensor\n",
    "print(x.shape)  # Should print torch.Size([4, 8, 2])"
   ]
  },
  {
   "cell_type": "code",
   "execution_count": 19,
   "id": "8ac7edae",
   "metadata": {},
   "outputs": [],
   "source": [
    "xbow = torch.zeros((B, T, C))  # Initialize the output tensor\n",
    "for b in range(B):\n",
    "    for t in range(T):\n",
    "        x_prev = x[b, :t+1]  # Get the sequence up to time t\n",
    "        xbow[b, t] = torch.mean(x_prev, dim=0)  # Compute the mean across the time dimension"
   ]
  },
  {
   "cell_type": "code",
   "execution_count": 22,
   "id": "4bdd718b",
   "metadata": {},
   "outputs": [
    {
     "data": {
      "text/plain": [
       "True"
      ]
     },
     "execution_count": 22,
     "metadata": {},
     "output_type": "execute_result"
    }
   ],
   "source": [
    "wei = torch.tril(torch.ones(T, T))  # Lower triangular matrix\n",
    "wei = wei / wei.sum(dim=1, keepdim=True)  # Normalize to get weights\n",
    "xbow2 = wei @ x  # Weighted average using the weights\n",
    "torch.allclose(xbow, xbow2, atol=1e-6)  # Check if both methods yield the same result\n"
   ]
  },
  {
   "cell_type": "code",
   "execution_count": 25,
   "id": "ab4fb004",
   "metadata": {},
   "outputs": [
    {
     "data": {
      "text/plain": [
       "True"
      ]
     },
     "execution_count": 25,
     "metadata": {},
     "output_type": "execute_result"
    }
   ],
   "source": [
    "tril = torch.tril(torch.ones(T, T))  # Lower triangular matrix\n",
    "wei = torch.zeros((T, T))  # Initialize weights\n",
    "wei = wei.masked_fill(tril == 0, float('-inf'))  # Set upper triangular part to -inf\n",
    "wei = F.softmax(wei, dim=-1)  # Apply softmax to get probabilities\n",
    "xbow3 = wei @ x  # Weighted average using the weights\n",
    "torch.allclose(xbow, xbow3, atol=1e-6)  # Check if both methods yield the same result"
   ]
  },
  {
   "cell_type": "code",
   "execution_count": null,
   "id": "857fea6d",
   "metadata": {},
   "outputs": [
    {
     "name": "stdout",
     "output_type": "stream",
     "text": [
      "torch.Size([4, 8, 16])\n"
     ]
    }
   ],
   "source": [
    "torch.manual_seed(1337)  # For reproducibility\n",
    "B, T, C = 4, 8, 32  # Batch size, time steps, channels\n",
    "x = torch.randn(B, T, C)  # Random input tensor\n",
    "\n",
    "head_size = 16  # Size of each head\n",
    "key = nn.Linear(C, head_size, bias=False)  # Linear layer for keys\n",
    "query = nn.Linear(C, head_size, bias=False)  # Linear layer for queries\n",
    "value = nn.Linear(C, head_size, bias=False)  # Linear layer for values\n",
    "k = key(x)  # Compute keys\n",
    "q = query(x)  # Compute queries\n",
    "wei = q @ k.transpose(-2, -1)  # Compute attention scores\n",
    "\n",
    "tril = torch.tril(torch.ones(T, T))  # Lower triangular matrix\n",
    "#wei = torch.zeros((T, T))  # Initialize weights\n",
    "wei = wei.masked_fill(tril == 0, float('-inf'))  # Set upper triangular part to -inf\n",
    "wei = F.softmax(wei, dim=-1)  # Apply softmax to get probabilities\n",
    "#out = wei @ x  # Weighted average using the weights\n",
    "v = value(x)  # Compute values\n",
    "out = wei @ v  # Weighted average using the values\n",
    "print(out.shape)  # Should print torch.Size([4, 8, 32])"
   ]
  },
  {
   "cell_type": "code",
   "execution_count": null,
   "id": "942e9f8b",
   "metadata": {},
   "outputs": [],
   "source": [
    "torch.manual_seed(1337)  # For reproducibility\n",
    "block_size = 256  # Size of the context window\n",
    "\n",
    "def get_batch(split):\n",
    "    # generate a small batch of data of inputs x and targets y\n",
    "    data = train_data if split == 'train' else val_data\n",
    "    ix = torch.randint(len(data) - block_size, (batch_size,))\n",
    "    x = torch.stack([data[i:i+block_size] for i in ix])\n",
    "    y = torch.stack([data[i+1:i+block_size+1] for i in ix])\n",
    "    return x, y\n"
   ]
  },
  {
   "cell_type": "code",
   "execution_count": 27,
   "id": "9ba5c799",
   "metadata": {},
   "outputs": [],
   "source": [
    "eval_batch_size = 32  # Define evaluation batch size\n",
    "\n",
    "@torch.no_grad()\n",
    "def estimate_loss():\n",
    "    out = {}\n",
    "    m.eval()\n",
    "    for split in ['train', 'val']:\n",
    "        losses = torch.zeros(eval_batch_size)\n",
    "        for k in range(eval_batch_size):\n",
    "            xb, yb = get_batch(split)\n",
    "            logits, loss = m(xb, yb)\n",
    "            losses[k] = loss.item()\n",
    "        out[split] = losses.mean()\n",
    "    m.train()\n",
    "    return out"
   ]
  },
  {
   "cell_type": "code",
   "execution_count": null,
   "id": "58932983",
   "metadata": {},
   "outputs": [],
   "source": [
    "class Head(nn.Module):\n",
    "    def __init__(self, head_size):\n",
    "        super().__init__()\n",
    "        self.key = nn.Linear(n_embd, head_size, bias = False)\n",
    "        self.query = nn.Linear(n_embd, head_size, bias=False)\n",
    "        self.value = nn.Linear(n_embd, head_size, bias = False)\n",
    "        self.register_buffer('tril', torch.tril(torch.ones(block_size, block_size)))\n",
    "\n",
    "        self.dropout = nn.Dropout(dropout)\n",
    "\n",
    "    def forward(self, x):\n",
    "        B, T, C = x.shape\n",
    "        k = self.key(x) \n",
    "        q = self.query(x)\n",
    "\n",
    "        # compute attention scores (\"affinities\")\n",
    "        wei = q @ k.transpose(-2, -1) * C**-0.5\n",
    "        wei = wei.masked_fill(self.tril[:T, :T] == 0, float('-inf'))\n",
    "        wei = F.softmax(wei, dim=-1)\n",
    "        wei = self.dropout(wei)\n",
    "\n",
    "        # perform the weighted aggregation of the values\n",
    "        v = self.value(x)\n",
    "        out = wei @ v\n",
    "        return out"
   ]
  },
  {
   "cell_type": "code",
   "execution_count": null,
   "id": "72317d2c",
   "metadata": {},
   "outputs": [],
   "source": [
    "class MultiHeadAttention(nn.Module):\n",
    "    def __init__(self, n_heads, head_size):\n",
    "        super().__init__()\n",
    "        self.heads = nn.ModuleList((Head(head_size) for _ in range(n_heads)))\n",
    "        self.proj = nn.Linear(n_embd, n_embd)  # Projection layer to combine heads\n",
    "        self.dropout = nn.Dropout(dropout)\n",
    "\n",
    "    def forward(self, x):\n",
    "        out = torch.cat([h(x) for h in self.heads], dim=-1)  # Concatenate outputs from all heads\n",
    "        out = self.proj(out)  # Project the concatenated output\n",
    "        return out  # Return the final output after projection"
   ]
  },
  {
   "cell_type": "code",
   "execution_count": null,
   "id": "c6c4e8d6",
   "metadata": {},
   "outputs": [],
   "source": [
    "class FeedFoward(nn.Module):\n",
    "    def __init__(self, n_embd):\n",
    "        super().__init__()\n",
    "        self.net = nn.Sequential(\n",
    "            nn.Linear(n_embd, n_embd),\n",
    "            nn.ReLU(),\n",
    "            nn.Linear(n_embd, n_embd),  # Output layer to match the input dimension\n",
    "            nn.Dropout(dropout),\n",
    "        )\n",
    "\n",
    "    def forward(self, x):\n",
    "        return self.net(x)"
   ]
  },
  {
   "cell_type": "code",
   "execution_count": 59,
   "id": "1c87b54d",
   "metadata": {},
   "outputs": [],
   "source": [
    "class Block(nn.Module):\n",
    "\n",
    "    def __init__(self, n_embd, n_head):\n",
    "        super().__init__()\n",
    "        head_size = n_embd // n_head\n",
    "        self.sa = MultiHeadAttention(n_head, head_size)\n",
    "        self.ffwd = FeedFoward(n_embd)\n",
    "        self.ln1 = nn.LayerNorm(n_embd)\n",
    "        self.ln2 = nn.LayerNorm(n_embd)\n",
    "\n",
    "    def forward(self, x):\n",
    "        x = x + self.sa(self.ln1(x))\n",
    "        x = x + self.ffwd(self.ln2(x))\n",
    "        return x"
   ]
  },
  {
   "cell_type": "code",
   "execution_count": null,
   "id": "88a3a8a5",
   "metadata": {},
   "outputs": [],
   "source": [
    "import torch.nn as nn\n",
    "from torch.nn import functional as F\n",
    "torch.manual_seed(1337)  # For reproducibility\n",
    "n_embd = 384  # Size of the embedding vectors\n",
    "\n",
    "class BigramLanguageModel(nn.Module):\n",
    "    def __init__(self):\n",
    "        super().__init__()\n",
    "        self.token_embedding_table = nn.Embedding(vocab_size, n_embd)\n",
    "        self.position_embedding_table = nn.Embedding(block_size, n_embd)\n",
    "        self.blocks = nn.Sequential(*Block(n_embd, n_head = n_head) for _ in range(n_layer))  # Stack 3 blocks\n",
    "        self.ln_f = nn.LayerNorm(n_embd)  # Final layer normalization\n",
    "        self.lm_head = nn.Linear(n_embd, vocab_size)\n",
    "\n",
    "    def forward(self, idx, targets=None):\n",
    "        B, T = idx.shape\n",
    "        tok_emb = self.token_embedding_table(idx) # (B, T, C)\n",
    "        pos_emb = self.position_embedding_table(torch.arange(T))\n",
    "        x = tok_emb + pos_emb  # (B, T, C)\n",
    "        x = self.blocks(x)\n",
    "        x = self.ln_f(x)  # Apply final layer normalization\n",
    "        logits = self.lm_head(x) # (B, T, vocab_size)\n",
    "\n",
    "        if targets is not None:\n",
    "            B, T, C = logits.shape\n",
    "            logits = logits.view(B * T, C)\n",
    "            targets = targets.view(B * T) \n",
    "            loss = F.cross_entropy(logits, targets)\n",
    "            return logits, loss\n",
    "        else:\n",
    "            return logits, None\n",
    "    \n",
    "    def generate(self, idx, max_new_tokens):\n",
    "        for _ in range(max_new_tokens):\n",
    "            idx_cond = idx[:, -block_size:] # Get the last block_size tokens\n",
    "            logits, loss = self(idx_cond) # predict next token\n",
    "            logits = logits[:, -1, :] # focus on the last time step\n",
    "            probs = F.softmax(logits, dim = -1) # convert to probabilities\n",
    "            idx_next = torch.multinomial(probs, num_samples = 1) # sample from the distribution\n",
    "            idx = torch.cat((idx, idx_next), dim=1) # append sampled index to the input\n",
    "        return idx\n",
    "\n",
    "m = BigramLanguageModel()\n",
    "optimizer = torch.optim.AdamW(m.parameters(), lr=1e-3)\n",
    "\n"
   ]
  },
  {
   "cell_type": "code",
   "execution_count": null,
   "id": "65079a44",
   "metadata": {},
   "outputs": [
    {
     "name": "stdout",
     "output_type": "stream",
     "text": [
      "Step 0, Train Loss: 4.4038, Val Loss: 4.4331\n",
      "Step 100, Train Loss: 2.9025, Val Loss: 2.9542\n",
      "Step 200, Train Loss: 2.6761, Val Loss: 2.6841\n",
      "Step 300, Train Loss: 2.5400, Val Loss: 2.6125\n",
      "Step 400, Train Loss: 2.4814, Val Loss: 2.4969\n",
      "Step 500, Train Loss: 2.4528, Val Loss: 2.4460\n",
      "Step 600, Train Loss: 2.4306, Val Loss: 2.4327\n",
      "Step 700, Train Loss: 2.3956, Val Loss: 2.4063\n",
      "Step 800, Train Loss: 2.3301, Val Loss: 2.3537\n",
      "Step 900, Train Loss: 2.3514, Val Loss: 2.3402\n",
      "Step 1000, Train Loss: 2.3334, Val Loss: 2.3126\n",
      "Step 1100, Train Loss: 2.3145, Val Loss: 2.2848\n",
      "Step 1200, Train Loss: 2.2828, Val Loss: 2.2863\n",
      "Step 1300, Train Loss: 2.2957, Val Loss: 2.2930\n",
      "Step 1400, Train Loss: 2.2600, Val Loss: 2.2545\n",
      "Step 1500, Train Loss: 2.2734, Val Loss: 2.2604\n",
      "Step 1600, Train Loss: 2.2309, Val Loss: 2.2637\n",
      "Step 1700, Train Loss: 2.2266, Val Loss: 2.2693\n",
      "Step 1800, Train Loss: 2.2318, Val Loss: 2.2264\n",
      "Step 1900, Train Loss: 2.2408, Val Loss: 2.2251\n",
      "Step 2000, Train Loss: 2.2126, Val Loss: 2.2319\n",
      "Step 2100, Train Loss: 2.1854, Val Loss: 2.2142\n",
      "Step 2200, Train Loss: 2.1946, Val Loss: 2.2289\n",
      "Step 2300, Train Loss: 2.1966, Val Loss: 2.2166\n",
      "Step 2400, Train Loss: 2.1709, Val Loss: 2.1949\n",
      "Step 2500, Train Loss: 2.1816, Val Loss: 2.2036\n",
      "Step 2600, Train Loss: 2.1659, Val Loss: 2.2129\n",
      "Step 2700, Train Loss: 2.1600, Val Loss: 2.1884\n",
      "Step 2800, Train Loss: 2.1438, Val Loss: 2.1635\n",
      "Step 2900, Train Loss: 2.1271, Val Loss: 2.1695\n",
      "Step 3000, Train Loss: 2.1247, Val Loss: 2.1856\n",
      "Step 3100, Train Loss: 2.1307, Val Loss: 2.1565\n",
      "Step 3200, Train Loss: 2.1254, Val Loss: 2.1884\n",
      "Step 3300, Train Loss: 2.1363, Val Loss: 2.2111\n",
      "Step 3400, Train Loss: 2.1200, Val Loss: 2.1909\n",
      "Step 3500, Train Loss: 2.1478, Val Loss: 2.1556\n",
      "Step 3600, Train Loss: 2.1022, Val Loss: 2.1472\n",
      "Step 3700, Train Loss: 2.1355, Val Loss: 2.1712\n",
      "Step 3800, Train Loss: 2.1267, Val Loss: 2.1737\n",
      "Step 3900, Train Loss: 2.0986, Val Loss: 2.1845\n",
      "Step 4000, Train Loss: 2.1323, Val Loss: 2.1728\n",
      "Step 4100, Train Loss: 2.1292, Val Loss: 2.1845\n",
      "Step 4200, Train Loss: 2.1125, Val Loss: 2.1103\n",
      "Step 4300, Train Loss: 2.0963, Val Loss: 2.1280\n",
      "Step 4400, Train Loss: 2.1126, Val Loss: 2.1307\n",
      "Step 4500, Train Loss: 2.0757, Val Loss: 2.1498\n",
      "Step 4600, Train Loss: 2.0962, Val Loss: 2.1376\n",
      "Step 4700, Train Loss: 2.0915, Val Loss: 2.1400\n",
      "Step 4800, Train Loss: 2.0656, Val Loss: 2.1429\n",
      "Step 4900, Train Loss: 2.0864, Val Loss: 2.1338\n"
     ]
    }
   ],
   "source": [
    "batch_size = 64\n",
    "for step in range(5000):\n",
    "    xb, yb = get_batch('train')\n",
    "    logits, loss = m(xb, yb)  # Forward pass\n",
    "    optimizer.zero_grad(set_to_none=True)  # Zero gradients\n",
    "    loss.backward()  # Backward pass\n",
    "    optimizer.step()  # Update parameters\n",
    "\n",
    "    if step % 100 == 0:\n",
    "        losses = estimate_loss()\n",
    "        print(f\"Step {step}, Train Loss: {losses['train']:.4f}, Val Loss: {losses['val']:.4f}\")"
   ]
  },
  {
   "cell_type": "code",
   "execution_count": 58,
   "id": "e1e1ceed",
   "metadata": {},
   "outputs": [
    {
     "name": "stdout",
     "output_type": "stream",
     "text": [
      "\n",
      "Than many I may Cand time, a bewhive sair'd clotlyeath on citll himms to haldeceath.\n",
      "\n",
      "PORKINGHERS ENEf Hax Gottin, when and my oupt art,\n",
      "That An blatt, a my not says gabloat-gorn, for fortwery, will stereck: weell off vilm det plat night,\n",
      "Laticame have with\n",
      "CARD\n",
      "I cain fily, wills asfuitlise thy and is the swern prog\n",
      "Myworg; to trainfets for to my that Cuch I sham son I to and.\n",
      "Aw and a douths\n",
      "Of they pret this out vhome? oug hat to shaufistly, my look likeselfore:\n",
      "Whe the bart'd with to by trougess:\n",
      "I call shiand dor cake fill to douse fill liged-comlet, in em doock,\n",
      "For are whit romman thou thim.\n",
      "By I with me wither poinkse you entell.\n",
      "\n",
      "SCAMAMEONTERNA:\n",
      "For to to to shead, farve nosiorn on hand a to nomiters.\n",
      "Bome.'\n",
      "\n",
      "Thich jurn wor with;\n",
      "Nor that rewnesfong my man letters:\n",
      "And Lartly, his laguot  mest as 'poue crobly! jence parve of hise?\n",
      "Gown flight, sulanfurgeay somee tone?\n",
      "\n",
      "Pist loulds list: tut whordsssamy, hromakem welll is and of well my thou salbwredier:\n",
      "Nouspron! gof they, bea\n"
     ]
    }
   ],
   "source": [
    "idx = torch.zeros((1,1), dtype=torch.long)  # Start with a single token\n",
    "print(decode(m.generate(idx, max_new_tokens=1000)[0].tolist()))  # Generate text and decode it"
   ]
  }
 ],
 "metadata": {
  "kernelspec": {
   "display_name": "Python 3",
   "language": "python",
   "name": "python3"
  },
  "language_info": {
   "codemirror_mode": {
    "name": "ipython",
    "version": 3
   },
   "file_extension": ".py",
   "mimetype": "text/x-python",
   "name": "python",
   "nbconvert_exporter": "python",
   "pygments_lexer": "ipython3",
   "version": "3.13.5"
  }
 },
 "nbformat": 4,
 "nbformat_minor": 5
}
