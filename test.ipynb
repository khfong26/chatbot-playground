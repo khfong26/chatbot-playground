{
 "cells": [
  {
   "cell_type": "code",
   "execution_count": null,
   "id": "096df714",
   "metadata": {},
   "outputs": [],
   "source": [
    "import kagglehub\n",
    "\n",
    "# Download latest version\n",
    "path = kagglehub.dataset_download(\"grafstor/simple-dialogs-for-chatbot\")\n",
    "\n",
    "print(\"Path to dataset files:\", path)"
   ]
  },
  {
   "cell_type": "code",
   "execution_count": 3,
   "id": "75ea444b",
   "metadata": {},
   "outputs": [
    {
     "data": {
      "text/plain": [
       "'C:\\\\Users\\\\kylef\\\\.cache\\\\kagglehub\\\\datasets\\\\grafstor\\\\simple-dialogs-for-chatbot\\\\versions\\\\2'"
      ]
     },
     "execution_count": 3,
     "metadata": {},
     "output_type": "execute_result"
    }
   ],
   "source": [
    "path"
   ]
  },
  {
   "cell_type": "code",
   "execution_count": 4,
   "id": "16c8168d",
   "metadata": {},
   "outputs": [
    {
     "name": "stdout",
     "output_type": "stream",
     "text": [
      "['dialogs.txt']\n"
     ]
    }
   ],
   "source": [
    "import os\n",
    "\n",
    "files = os.listdir(path)\n",
    "print(files)"
   ]
  },
  {
   "cell_type": "code",
   "execution_count": 5,
   "id": "75332533",
   "metadata": {},
   "outputs": [
    {
     "name": "stdout",
     "output_type": "stream",
     "text": [
      "hi, how are you doing?\ti'm fine. how about yourself?\n",
      "i'm fine. how about yourself?\ti'm pretty good. thanks for asking.\n",
      "i'm pretty good. thanks for asking.\tno problem. so how have you been?\n",
      "no problem. so how have you been?\ti've been great. what about you?\n",
      "i've been great. what about you?\ti've been good. i'm in school right now.\n",
      "i've been good. i'm in school right now.\twhat school do you go to?\n",
      "what school do you go to?\ti go to pcc.\n",
      "i go to pcc.\tdo you like it there?\n",
      "do you like it there?\tit's ok\n"
     ]
    }
   ],
   "source": [
    "with open(os.path.join(path, files[0]), 'r', encoding='utf-8') as f:\n",
    "    content = f.read()\n",
    "print(content[:500])  # Print the first 500 characters"
   ]
  },
  {
   "cell_type": "code",
   "execution_count": null,
   "id": "4c69365a",
   "metadata": {},
   "outputs": [],
   "source": [
    "import kagglehub\n",
    "import os\n",
    "\n",
    "# Download latest version\n",
    "path = kagglehub.dataset_download(\"grafstor/simple-dialogs-for-chatbot\")\n",
    "files = os.listdir(path)\n",
    "with open(os.path.join(path, files[0]), 'r', encoding='utf-8') as f:\n",
    "    content = f.read()\n"
   ]
  }
 ],
 "metadata": {
  "kernelspec": {
   "display_name": "Python 3",
   "language": "python",
   "name": "python3"
  },
  "language_info": {
   "codemirror_mode": {
    "name": "ipython",
    "version": 3
   },
   "file_extension": ".py",
   "mimetype": "text/x-python",
   "name": "python",
   "nbconvert_exporter": "python",
   "pygments_lexer": "ipython3",
   "version": "3.13.5"
  }
 },
 "nbformat": 4,
 "nbformat_minor": 5
}
